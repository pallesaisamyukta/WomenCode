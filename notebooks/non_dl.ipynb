{
 "cells": [
  {
   "cell_type": "code",
   "execution_count": 7,
   "metadata": {},
   "outputs": [],
   "source": [
    "import pandas as pd\n",
    "from sklearn.feature_extraction.text import TfidfVectorizer\n",
    "from sklearn.metrics.pairwise import cosine_similarity\n",
    "from tqdm import tqdm"
   ]
  },
  {
   "cell_type": "code",
   "execution_count": 3,
   "metadata": {},
   "outputs": [],
   "source": [
    "# Load the DataFrame containing instruction and response columns\n",
    "df = pd.read_csv('../data/processed/inst-resp.csv')"
   ]
  },
  {
   "cell_type": "code",
   "execution_count": 24,
   "metadata": {},
   "outputs": [],
   "source": [
    "def keyword_search(user_input, df, threshold=0.7):\n",
    "    \"\"\"\n",
    "    Search for a recipe response based on user input.\n",
    "\n",
    "    Args:\n",
    "        user_input (str): The user's input.\n",
    "        df (DataFrame): The DataFrame containing recipes.\n",
    "        threshold (float): The minimum match score required. Default is 0.7.\n",
    "\n",
    "    Returns:\n",
    "        str or None: The response text of the matching recipe, or None if no match is found.\n",
    "    \"\"\"\n",
    "    # Iterate over each row in the DataFrame\n",
    "    for index, row in df.iterrows():\n",
    "        # Get the instruction and response from the row\n",
    "        instruction = row['Instruction']\n",
    "        response = row['Response']\n",
    "        \n",
    "        # Check if instruction and response are not null\n",
    "        if pd.notnull(instruction) and pd.notnull(response):\n",
    "            # Calculate match score using TF-IDF cosine similarity\n",
    "            match_score = calculate_similarity(user_input, instruction) + calculate_similarity(user_input, response)\n",
    "            \n",
    "            # Check if match score meets the threshold\n",
    "            if match_score >= threshold:\n",
    "                return response  # Return the response if threshold is met\n",
    "    \n",
    "    return None  # Return None if no match is found\n",
    "\n",
    "def calculate_similarity(input_text, target_text):\n",
    "    \"\"\"\n",
    "    Calculate the cosine similarity between two text strings using TF-IDF.\n",
    "\n",
    "    Args:\n",
    "        input_text (str): The first text string.\n",
    "        target_text (str): The second text string.\n",
    "\n",
    "    Returns:\n",
    "        float: The cosine similarity score between the two text strings.\n",
    "    \"\"\"\n",
    "    # Initialize TF-IDF vectorizer\n",
    "    tfidf_vectorizer = TfidfVectorizer()\n",
    "    \n",
    "    # Fit and transform the vectorizer on the input and target text\n",
    "    tfidf_matrix = tfidf_vectorizer.fit_transform([input_text, target_text])\n",
    "    \n",
    "    # Calculate cosine similarity\n",
    "    similarity_matrix = cosine_similarity(tfidf_matrix[0], tfidf_matrix[1])\n",
    "    \n",
    "    return similarity_matrix[0][0]  # Return the similarity score"
   ]
  },
  {
   "cell_type": "code",
   "execution_count": 25,
   "metadata": {},
   "outputs": [
    {
     "data": {
      "text/html": [
       "<div>\n",
       "<style scoped>\n",
       "    .dataframe tbody tr th:only-of-type {\n",
       "        vertical-align: middle;\n",
       "    }\n",
       "\n",
       "    .dataframe tbody tr th {\n",
       "        vertical-align: top;\n",
       "    }\n",
       "\n",
       "    .dataframe thead th {\n",
       "        text-align: right;\n",
       "    }\n",
       "</style>\n",
       "<table border=\"1\" class=\"dataframe\">\n",
       "  <thead>\n",
       "    <tr style=\"text-align: right;\">\n",
       "      <th></th>\n",
       "      <th>Instruction</th>\n",
       "      <th>Response</th>\n",
       "    </tr>\n",
       "  </thead>\n",
       "  <tbody>\n",
       "    <tr>\n",
       "      <th>0</th>\n",
       "      <td>Tags: ['60-minutes-or-less', 'time-to-make', '...</td>\n",
       "      <td>Name: french toast with a crunchy topping Minu...</td>\n",
       "    </tr>\n",
       "    <tr>\n",
       "      <th>1</th>\n",
       "      <td>Tags: ['weeknight', 'time-to-make', 'course', ...</td>\n",
       "      <td>Name: almost authentic cincinnati chili Minute...</td>\n",
       "    </tr>\n",
       "  </tbody>\n",
       "</table>\n",
       "</div>"
      ],
      "text/plain": [
       "                                         Instruction  \\\n",
       "0  Tags: ['60-minutes-or-less', 'time-to-make', '...   \n",
       "1  Tags: ['weeknight', 'time-to-make', 'course', ...   \n",
       "\n",
       "                                            Response  \n",
       "0  Name: french toast with a crunchy topping Minu...  \n",
       "1  Name: almost authentic cincinnati chili Minute...  "
      ]
     },
     "execution_count": 25,
     "metadata": {},
     "output_type": "execute_result"
    }
   ],
   "source": [
    "test_df = pd.read_csv('../data/processed/test_data.csv')\n",
    "test_df.head(2)"
   ]
  },
  {
   "cell_type": "code",
   "execution_count": 28,
   "metadata": {},
   "outputs": [
    {
     "name": "stderr",
     "output_type": "stream",
     "text": [
      "Generating Recipes:   0%|          | 0/100 [00:00<?, ?it/s]"
     ]
    },
    {
     "name": "stderr",
     "output_type": "stream",
     "text": [
      "Generating Recipes: 100%|██████████| 100/100 [00:50<00:00,  2.00it/s]\n"
     ]
    }
   ],
   "source": [
    "\n",
    "generated_texts_tfidf = []\n",
    "for prompt in tqdm(test_df['Instruction'].to_list(), desc=\"Generating Recipes\"):\n",
    "    # Perform keyword search\n",
    "    relevant_recipes = keyword_search(prompt, df)\n",
    "    # Output relevant recipes\n",
    "    if relevant_recipes:\n",
    "        generated_texts_tfidf.append(relevant_recipes)\n",
    "    else:\n",
    "        print(\"No relevant recipes found.\")\n",
    "        generated_texts_tfidf.append(\"\")\n",
    "    # generated_texts_pre.append(generated_text)"
   ]
  },
  {
   "cell_type": "code",
   "execution_count": 29,
   "metadata": {},
   "outputs": [],
   "source": [
    "test_df['TF_IDF_GeneratedRecipe'] = generated_texts_tfidf"
   ]
  },
  {
   "cell_type": "code",
   "execution_count": 44,
   "metadata": {},
   "outputs": [
    {
     "data": {
      "text/html": [
       "<div>\n",
       "<style scoped>\n",
       "    .dataframe tbody tr th:only-of-type {\n",
       "        vertical-align: middle;\n",
       "    }\n",
       "\n",
       "    .dataframe tbody tr th {\n",
       "        vertical-align: top;\n",
       "    }\n",
       "\n",
       "    .dataframe thead th {\n",
       "        text-align: right;\n",
       "    }\n",
       "</style>\n",
       "<table border=\"1\" class=\"dataframe\">\n",
       "  <thead>\n",
       "    <tr style=\"text-align: right;\">\n",
       "      <th></th>\n",
       "      <th>Instruction</th>\n",
       "      <th>Response</th>\n",
       "      <th>TF_IDF_GeneratedRecipe</th>\n",
       "    </tr>\n",
       "  </thead>\n",
       "  <tbody>\n",
       "    <tr>\n",
       "      <th>0</th>\n",
       "      <td>Tags: ['60-minutes-or-less', 'time-to-make', '...</td>\n",
       "      <td>Name: french toast with a crunchy topping Minu...</td>\n",
       "      <td>Name: apple a day  milk shake Minutes: 0 Ingre...</td>\n",
       "    </tr>\n",
       "    <tr>\n",
       "      <th>1</th>\n",
       "      <td>Tags: ['weeknight', 'time-to-make', 'course', ...</td>\n",
       "      <td>Name: almost authentic cincinnati chili Minute...</td>\n",
       "      <td>Name: forgotten  minestrone Minutes: 495 Ingre...</td>\n",
       "    </tr>\n",
       "  </tbody>\n",
       "</table>\n",
       "</div>"
      ],
      "text/plain": [
       "                                         Instruction  \\\n",
       "0  Tags: ['60-minutes-or-less', 'time-to-make', '...   \n",
       "1  Tags: ['weeknight', 'time-to-make', 'course', ...   \n",
       "\n",
       "                                            Response  \\\n",
       "0  Name: french toast with a crunchy topping Minu...   \n",
       "1  Name: almost authentic cincinnati chili Minute...   \n",
       "\n",
       "                              TF_IDF_GeneratedRecipe  \n",
       "0  Name: apple a day  milk shake Minutes: 0 Ingre...  \n",
       "1  Name: forgotten  minestrone Minutes: 495 Ingre...  "
      ]
     },
     "execution_count": 44,
     "metadata": {},
     "output_type": "execute_result"
    }
   ],
   "source": [
    "test_df.head(2)"
   ]
  },
  {
   "cell_type": "code",
   "execution_count": 45,
   "metadata": {},
   "outputs": [],
   "source": [
    "test_df.to_csv('../data/processed/test_data.csv')"
   ]
  },
  {
   "cell_type": "markdown",
   "metadata": {},
   "source": [
    "Updated the test_data csv to do inference"
   ]
  }
 ],
 "metadata": {
  "kernelspec": {
   "display_name": ".env_womencode",
   "language": "python",
   "name": "python3"
  },
  "language_info": {
   "codemirror_mode": {
    "name": "ipython",
    "version": 3
   },
   "file_extension": ".py",
   "mimetype": "text/x-python",
   "name": "python",
   "nbconvert_exporter": "python",
   "pygments_lexer": "ipython3",
   "version": "3.12.3"
  }
 },
 "nbformat": 4,
 "nbformat_minor": 2
}
